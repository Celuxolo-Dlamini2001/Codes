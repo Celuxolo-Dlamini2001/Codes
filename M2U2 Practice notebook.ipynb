{
 "cells": [
  {
   "cell_type": "markdown",
   "metadata": {
    "colab_type": "text",
    "id": "8GTLQeFGyMa4"
   },
   "source": [
    "# Module 2 Unit 2\n",
    "## Learn to fit a tree-based model\n",
    "\n",
    "### Regression problem\n",
    "\n"
   ]
  },
  {
   "cell_type": "code",
   "execution_count": 1,
   "metadata": {
    "colab": {},
    "colab_type": "code",
    "id": "bCz-yrrmyMa6"
   },
   "outputs": [],
   "source": [
    "# Import libraries\n",
    "import pandas as pd\n",
    "from sklearn.tree import DecisionTreeRegressor, plot_tree  \n",
    "import matplotlib.pyplot as plt\n",
    "import numpy as np"
   ]
  },
  {
   "cell_type": "code",
   "execution_count": 2,
   "metadata": {
    "colab": {},
    "colab_type": "code",
    "id": "Sif0ibC_yMa8"
   },
   "outputs": [],
   "source": [
    "# Import data\n",
    "df = pd.read_csv('Boston.csv', delimiter = \",\")"
   ]
  },
  {
   "cell_type": "markdown",
   "metadata": {
    "colab_type": "text",
    "id": "beBebmKeUDeE"
   },
   "source": [
    "Once the data is imported, a summary of the number of rows and columns can be displayed using `df.shape`.  \n",
    "The output is: `(number of rows, number of columns)`"
   ]
  },
  {
   "cell_type": "code",
   "execution_count": 3,
   "metadata": {
    "colab": {},
    "colab_type": "code",
    "id": "LWu9r0WRyMa-",
    "outputId": "bd955a61-caa9-4493-8b64-5062de1898c8"
   },
   "outputs": [
    {
     "data": {
      "text/plain": [
       "(506, 15)"
      ]
     },
     "execution_count": 3,
     "metadata": {},
     "output_type": "execute_result"
    }
   ],
   "source": [
    "# Explore the size of the data set.\n",
    "df.shape"
   ]
  },
  {
   "cell_type": "markdown",
   "metadata": {
    "colab_type": "text",
    "id": "RUTouRUhUDeK"
   },
   "source": [
    "Next, the first couple of rows can be viewed using `df.head()`.  \n",
    "The default number of rows shown is 5, but this can be specified. For example, to see 10 you would use `df.head(10)`."
   ]
  },
  {
   "cell_type": "code",
   "execution_count": 4,
   "metadata": {
    "colab": {},
    "colab_type": "code",
    "id": "OZoYdz1cyMbB",
    "outputId": "f4019e7a-f847-4062-953f-09054d9704b5"
   },
   "outputs": [
    {
     "data": {
      "text/html": [
       "<div>\n",
       "<style scoped>\n",
       "    .dataframe tbody tr th:only-of-type {\n",
       "        vertical-align: middle;\n",
       "    }\n",
       "\n",
       "    .dataframe tbody tr th {\n",
       "        vertical-align: top;\n",
       "    }\n",
       "\n",
       "    .dataframe thead th {\n",
       "        text-align: right;\n",
       "    }\n",
       "</style>\n",
       "<table border=\"1\" class=\"dataframe\">\n",
       "  <thead>\n",
       "    <tr style=\"text-align: right;\">\n",
       "      <th></th>\n",
       "      <th>Unnamed: 0</th>\n",
       "      <th>crim</th>\n",
       "      <th>zn</th>\n",
       "      <th>indus</th>\n",
       "      <th>chas</th>\n",
       "      <th>nox</th>\n",
       "      <th>rm</th>\n",
       "      <th>age</th>\n",
       "      <th>dis</th>\n",
       "      <th>rad</th>\n",
       "      <th>tax</th>\n",
       "      <th>ptratio</th>\n",
       "      <th>b</th>\n",
       "      <th>lstat</th>\n",
       "      <th>medv</th>\n",
       "    </tr>\n",
       "  </thead>\n",
       "  <tbody>\n",
       "    <tr>\n",
       "      <th>0</th>\n",
       "      <td>1</td>\n",
       "      <td>0.00632</td>\n",
       "      <td>18.0</td>\n",
       "      <td>2.31</td>\n",
       "      <td>0</td>\n",
       "      <td>0.538</td>\n",
       "      <td>6.575</td>\n",
       "      <td>65.2</td>\n",
       "      <td>4.0900</td>\n",
       "      <td>1</td>\n",
       "      <td>296</td>\n",
       "      <td>15.3</td>\n",
       "      <td>396.90</td>\n",
       "      <td>4.98</td>\n",
       "      <td>24.0</td>\n",
       "    </tr>\n",
       "    <tr>\n",
       "      <th>1</th>\n",
       "      <td>2</td>\n",
       "      <td>0.02731</td>\n",
       "      <td>0.0</td>\n",
       "      <td>7.07</td>\n",
       "      <td>0</td>\n",
       "      <td>0.469</td>\n",
       "      <td>6.421</td>\n",
       "      <td>78.9</td>\n",
       "      <td>4.9671</td>\n",
       "      <td>2</td>\n",
       "      <td>242</td>\n",
       "      <td>17.8</td>\n",
       "      <td>396.90</td>\n",
       "      <td>9.14</td>\n",
       "      <td>21.6</td>\n",
       "    </tr>\n",
       "    <tr>\n",
       "      <th>2</th>\n",
       "      <td>3</td>\n",
       "      <td>0.02729</td>\n",
       "      <td>0.0</td>\n",
       "      <td>7.07</td>\n",
       "      <td>0</td>\n",
       "      <td>0.469</td>\n",
       "      <td>7.185</td>\n",
       "      <td>61.1</td>\n",
       "      <td>4.9671</td>\n",
       "      <td>2</td>\n",
       "      <td>242</td>\n",
       "      <td>17.8</td>\n",
       "      <td>392.83</td>\n",
       "      <td>4.03</td>\n",
       "      <td>34.7</td>\n",
       "    </tr>\n",
       "    <tr>\n",
       "      <th>3</th>\n",
       "      <td>4</td>\n",
       "      <td>0.03237</td>\n",
       "      <td>0.0</td>\n",
       "      <td>2.18</td>\n",
       "      <td>0</td>\n",
       "      <td>0.458</td>\n",
       "      <td>6.998</td>\n",
       "      <td>45.8</td>\n",
       "      <td>6.0622</td>\n",
       "      <td>3</td>\n",
       "      <td>222</td>\n",
       "      <td>18.7</td>\n",
       "      <td>394.63</td>\n",
       "      <td>2.94</td>\n",
       "      <td>33.4</td>\n",
       "    </tr>\n",
       "    <tr>\n",
       "      <th>4</th>\n",
       "      <td>5</td>\n",
       "      <td>0.06905</td>\n",
       "      <td>0.0</td>\n",
       "      <td>2.18</td>\n",
       "      <td>0</td>\n",
       "      <td>0.458</td>\n",
       "      <td>7.147</td>\n",
       "      <td>54.2</td>\n",
       "      <td>6.0622</td>\n",
       "      <td>3</td>\n",
       "      <td>222</td>\n",
       "      <td>18.7</td>\n",
       "      <td>396.90</td>\n",
       "      <td>5.33</td>\n",
       "      <td>36.2</td>\n",
       "    </tr>\n",
       "    <tr>\n",
       "      <th>5</th>\n",
       "      <td>6</td>\n",
       "      <td>0.02985</td>\n",
       "      <td>0.0</td>\n",
       "      <td>2.18</td>\n",
       "      <td>0</td>\n",
       "      <td>0.458</td>\n",
       "      <td>6.430</td>\n",
       "      <td>58.7</td>\n",
       "      <td>6.0622</td>\n",
       "      <td>3</td>\n",
       "      <td>222</td>\n",
       "      <td>18.7</td>\n",
       "      <td>394.12</td>\n",
       "      <td>5.21</td>\n",
       "      <td>28.7</td>\n",
       "    </tr>\n",
       "    <tr>\n",
       "      <th>6</th>\n",
       "      <td>7</td>\n",
       "      <td>0.08829</td>\n",
       "      <td>12.5</td>\n",
       "      <td>7.87</td>\n",
       "      <td>0</td>\n",
       "      <td>0.524</td>\n",
       "      <td>6.012</td>\n",
       "      <td>66.6</td>\n",
       "      <td>5.5605</td>\n",
       "      <td>5</td>\n",
       "      <td>311</td>\n",
       "      <td>15.2</td>\n",
       "      <td>395.60</td>\n",
       "      <td>12.43</td>\n",
       "      <td>22.9</td>\n",
       "    </tr>\n",
       "    <tr>\n",
       "      <th>7</th>\n",
       "      <td>8</td>\n",
       "      <td>0.14455</td>\n",
       "      <td>12.5</td>\n",
       "      <td>7.87</td>\n",
       "      <td>0</td>\n",
       "      <td>0.524</td>\n",
       "      <td>6.172</td>\n",
       "      <td>96.1</td>\n",
       "      <td>5.9505</td>\n",
       "      <td>5</td>\n",
       "      <td>311</td>\n",
       "      <td>15.2</td>\n",
       "      <td>396.90</td>\n",
       "      <td>19.15</td>\n",
       "      <td>27.1</td>\n",
       "    </tr>\n",
       "  </tbody>\n",
       "</table>\n",
       "</div>"
      ],
      "text/plain": [
       "   Unnamed: 0     crim    zn  indus  chas    nox     rm   age     dis  rad  \\\n",
       "0           1  0.00632  18.0   2.31     0  0.538  6.575  65.2  4.0900    1   \n",
       "1           2  0.02731   0.0   7.07     0  0.469  6.421  78.9  4.9671    2   \n",
       "2           3  0.02729   0.0   7.07     0  0.469  7.185  61.1  4.9671    2   \n",
       "3           4  0.03237   0.0   2.18     0  0.458  6.998  45.8  6.0622    3   \n",
       "4           5  0.06905   0.0   2.18     0  0.458  7.147  54.2  6.0622    3   \n",
       "5           6  0.02985   0.0   2.18     0  0.458  6.430  58.7  6.0622    3   \n",
       "6           7  0.08829  12.5   7.87     0  0.524  6.012  66.6  5.5605    5   \n",
       "7           8  0.14455  12.5   7.87     0  0.524  6.172  96.1  5.9505    5   \n",
       "\n",
       "   tax  ptratio       b  lstat  medv  \n",
       "0  296     15.3  396.90   4.98  24.0  \n",
       "1  242     17.8  396.90   9.14  21.6  \n",
       "2  242     17.8  392.83   4.03  34.7  \n",
       "3  222     18.7  394.63   2.94  33.4  \n",
       "4  222     18.7  396.90   5.33  36.2  \n",
       "5  222     18.7  394.12   5.21  28.7  \n",
       "6  311     15.2  395.60  12.43  22.9  \n",
       "7  311     15.2  396.90  19.15  27.1  "
      ]
     },
     "execution_count": 4,
     "metadata": {},
     "output_type": "execute_result"
    }
   ],
   "source": [
    "# Explore the type of data and feature names.\n",
    "df.head(8)"
   ]
  },
  {
   "cell_type": "code",
   "execution_count": 5,
   "metadata": {
    "colab": {},
    "colab_type": "code",
    "id": "xQcWvGqQUDeQ",
    "outputId": "baef7ecc-4787-411c-a419-3157a16b2fd0"
   },
   "outputs": [
    {
     "name": "stdout",
     "output_type": "stream",
     "text": [
      "Unnamed: 0    0\n",
      "crim          0\n",
      "zn            0\n",
      "indus         0\n",
      "chas          0\n",
      "nox           0\n",
      "rm            0\n",
      "age           0\n",
      "dis           0\n",
      "rad           0\n",
      "tax           0\n",
      "ptratio       0\n",
      "b             0\n",
      "lstat         0\n",
      "medv          0\n",
      "dtype: int64\n",
      "Dataframe has null values? False\n"
     ]
    }
   ],
   "source": [
    "# Dealing with missing values\n",
    "print(df.isnull().sum())  # displays the number of null values for each field\n",
    "\n",
    "# Checks whether or not there are ANY null values in the dataframe\n",
    "print(\"Dataframe has null values?\",df.isnull().values.any())  \n",
    "# Alternatively, use df.isnull().sum().sum() to display the total number of null \n",
    "# values in the dataframe."
   ]
  },
  {
   "cell_type": "markdown",
   "metadata": {
    "colab_type": "text",
    "id": "yCY01zK3yhgP"
   },
   "source": [
    "This data set has no null values. However, if there were null values, you could replace them with the median of the column by using the following code, where `FIELDNAME` should be replaced with the name of the relevant column:"
   ]
  },
  {
   "cell_type": "code",
   "execution_count": 6,
   "metadata": {
    "colab": {},
    "colab_type": "code",
    "id": "mEnt5Kx1x8m-"
   },
   "outputs": [],
   "source": [
    "# median = df['FIELDNAME'].median()\n",
    "# df['FIELDNAME'].fillna(median, inplace=True)"
   ]
  },
  {
   "cell_type": "markdown",
   "metadata": {
    "colab_type": "text",
    "id": "bXbq_YUtyMa5"
   },
   "source": [
    "The following three features will be used to train a tree-based model. \n",
    "\n",
    "\n",
    "| Feature       | Description                                           |\n",
    "| :------------ |:------------------------------------------------------| \n",
    "| crim          | Per capita crime rate by town                         | \n",
    "| rm            | Average number of rooms per dwelling                  |  \n",
    "| age           | Proportion of owner-occupied units built prior to 1940|\n",
    "\n",
    "The response for this data set is as follows.\n",
    "\n",
    "| Response      | Description                                        |\n",
    "| :------------ |:---------------------------------------------------| \n",
    "| medv          | Median value of owner-occupied homes in USD 1,000s | \n",
    "\n"
   ]
  },
  {
   "cell_type": "code",
   "execution_count": null,
   "metadata": {
    "colab": {},
    "colab_type": "code",
    "id": "kCRnkIGMyMbE"
   },
   "outputs": [],
   "source": [
    "# Split data into features (X) and response (y).\n",
    "# Note that the column names need to have quotation marks.\n",
    "X = df.loc[:,[\"crim\",\"rm\",\"age\"]]\n",
    "y = df.loc[:,[\"medv\"]]   \n",
    "# Alternatively: y = df.iloc[:,[14,]] (see enrichment exercise below)"
   ]
  },
  {
   "cell_type": "markdown",
   "metadata": {
    "colab_type": "text",
    "id": "8vmuGFfp5AcO"
   },
   "source": [
    "You can display the features with the `head()` function."
   ]
  },
  {
   "cell_type": "code",
   "execution_count": null,
   "metadata": {
    "colab": {},
    "colab_type": "code",
    "id": "m_sXdJO6UDeb",
    "outputId": "c12d7b40-7508-410d-fff7-05fa9fe65a85"
   },
   "outputs": [],
   "source": [
    "# Selected features\n",
    "X.head()"
   ]
  },
  {
   "cell_type": "markdown",
   "metadata": {
    "colab_type": "text",
    "id": "uiEsQqha4EEk"
   },
   "source": [
    "Next, you can also display the response. An alternative to viewing the first few lines is to view the last few lines. You can do this with the `tail()` function.\n",
    "The default number of rows shown is 5, but this can be specified, as with `head()`."
   ]
  },
  {
   "cell_type": "code",
   "execution_count": null,
   "metadata": {
    "colab": {},
    "colab_type": "code",
    "id": "7hOWlSgFUDeg",
    "outputId": "6eca7f8a-ac49-4148-8a36-ada23e61778a"
   },
   "outputs": [],
   "source": [
    "# Response \n",
    "# Note the response is separate from the features.\n",
    "y.tail()"
   ]
  },
  {
   "cell_type": "code",
   "execution_count": null,
   "metadata": {
    "colab": {},
    "colab_type": "code",
    "id": "TFVpT_gSyMbG"
   },
   "outputs": [],
   "source": [
    "# Fit data to tree-based regression model.\n",
    "# Set random seed with random_state so that the results are consistent.\n",
    "regressor = DecisionTreeRegressor(random_state=0)\n",
    "regressor = regressor.fit(X,y)"
   ]
  },
  {
   "cell_type": "markdown",
   "metadata": {
    "colab_type": "text",
    "id": "oAVUwlfU6f4T"
   },
   "source": [
    "You can access documentation directly by using the `help` function and adding the function name in the brackets."
   ]
  },
  {
   "cell_type": "code",
   "execution_count": null,
   "metadata": {
    "colab": {},
    "colab_type": "code",
    "id": "HDQ8tiEjWPh8",
    "outputId": "fbbecd64-8684-4746-cf7c-45c0a2caa262"
   },
   "outputs": [],
   "source": [
    "help(regressor)"
   ]
  },
  {
   "cell_type": "code",
   "execution_count": null,
   "metadata": {
    "colab": {},
    "colab_type": "code",
    "id": "xPuhtYR0yMbJ",
    "outputId": "7edd1f73-b3d6-4d51-9fdd-c9f5e4f5bd4e"
   },
   "outputs": [],
   "source": [
    "# Visualise the regression tree.\n",
    "plt.figure()\n",
    "plot_tree(regressor,feature_names=X.columns)\n",
    "plt.show()\n",
    "\n",
    "# Use max_depth to display certain nodes.\n",
    "plt.figure(figsize=[5,5], dpi=100)\n",
    "plot_tree(regressor,max_depth=1,feature_names=X.columns,impurity=False)\n",
    "plt.show()"
   ]
  },
  {
   "cell_type": "code",
   "execution_count": null,
   "metadata": {
    "colab": {},
    "colab_type": "code",
    "id": "g_FceEyxWPiK",
    "outputId": "9424f9fb-1556-43ce-8a2a-282546366093"
   },
   "outputs": [],
   "source": [
    "# Plot how the first two decision points of the decision tree \n",
    "# partition the data set\n",
    "# Draw scatterplot of number of rooms vs crime rate.\n",
    "plt.figure(figsize=[6,4], dpi=100)\n",
    "cutx, cuty = 4.5, 15    # cut off irrelevant part of the chart\n",
    "plt.ylim(0,cuty)       \n",
    "plt.xlim(cutx,9)\n",
    "plt.xlabel('Number of rooms')\n",
    "plt.ylabel('Crime rate')\n",
    "plt.title('Median house value')\n",
    "plt.scatter(x=X['rm'],y=X['crim'],c=df['medv'])\n",
    "\n",
    "# Show the first two decision points (the lines partition the data)\n",
    "splits = regressor.tree_.threshold[:2]   # first two feature thresholds\n",
    "plt.plot([splits[0],splits[0]], [0,cuty]) \n",
    "plt.plot([cutx,splits[0]], [splits[1],splits[1]])\n",
    "plt.colorbar()\n",
    "plt.show()"
   ]
  },
  {
   "cell_type": "code",
   "execution_count": null,
   "metadata": {
    "colab": {},
    "colab_type": "code",
    "id": "e3WFgVYpWPiP",
    "outputId": "48431793-10bf-43c1-f240-3ed594c90cae"
   },
   "outputs": [],
   "source": [
    "print('\\n Average medv for entire sample = ',\n",
    "           df['medv'].mean(), \n",
    "      '\\n Average medv for left node (depth=1) = ',\n",
    "           df.loc[df['rm']<6.941]['medv'].mean(), \n",
    "      '\\n Number of samples on right node (depth=1) =', \n",
    "           len(df.loc[df['rm']>=6.941]['medv']))\n"
   ]
  },
  {
   "cell_type": "markdown",
   "metadata": {
    "colab_type": "text",
    "id": "33N8hF-dUDes"
   },
   "source": [
    "## Enrichment \n",
    "There is more than one way to select columns with the pandas library. In the previous examples, the columns are selected by the column name, but it is also possible to select columns by using numerical indexing.\n",
    "\n",
    "Explore the pandas documentation to find out how to select a column numerically.  \n",
    "https://pandas.pydata.org/pandas-docs/stable/reference/api/pandas.DataFrame.iloc.html"
   ]
  },
  {
   "cell_type": "code",
   "execution_count": null,
   "metadata": {
    "colab": {},
    "colab_type": "code",
    "id": "MSYS-B03UDet",
    "outputId": "2aebdab9-2e3d-4899-e082-37a9209494ff"
   },
   "outputs": [],
   "source": [
    "# Select the first three columns using numerical indexing\n",
    "first_three = df.iloc[:, 0:3] # Remember, the first colon selects all the rows.\n",
    "first_three.head()"
   ]
  },
  {
   "cell_type": "markdown",
   "metadata": {
    "colab_type": "text",
    "id": "Jfl_UuCrUDex"
   },
   "source": [
    "### Practice selecting columns with pandas\n",
    "\n",
    "1. Assign the second, seventh, and eighth columns to the variable `X`. (Ensure you use `X` as the variable name.)\n",
    "2. Assign the last column of the dataframe to the variable `y`. (Ensure you use `y` as the variable name.)"
   ]
  },
  {
   "cell_type": "code",
   "execution_count": null,
   "metadata": {
    "colab": {},
    "colab_type": "code",
    "id": "iPA0FX_3UDez",
    "outputId": "f15e8639-9533-4c33-b713-21a368a38ac6"
   },
   "outputs": [],
   "source": [
    "# Assign the second, seventh, and eighth columns to the variable \"X2\".\n",
    "# Hint: Remember that Python uses zero indexing.\n",
    " \n",
    "### YOUR CODE HERE\n",
    "\n",
    "# You should have the crim, rm, and age columns displayed.\n",
    "X2.head()"
   ]
  },
  {
   "cell_type": "code",
   "execution_count": null,
   "metadata": {
    "colab": {},
    "colab_type": "code",
    "id": "FnVjFxBpUDe3",
    "outputId": "d067217f-0944-4d3c-c08d-4876312fb4be"
   },
   "outputs": [],
   "source": [
    "# Assign the last column of the dataframe to the variable \"y2\".\n",
    "\n",
    "### YOUR CODE HERE\n",
    "\n",
    "# You should have medv column displayed.\n",
    "y2.head()"
   ]
  },
  {
   "cell_type": "markdown",
   "metadata": {
    "colab_type": "text",
    "id": "nakJve8YUDe7"
   },
   "source": [
    "Continue to the small group discussion forum to discuss how you would interpret the decision tree."
   ]
  }
 ],
 "metadata": {
  "colab": {
   "collapsed_sections": [],
   "name": "UCT DSS M2U2 IDE Notebook (code)_model_answer_v17_ed.ipynb",
   "provenance": []
  },
  "kernelspec": {
   "display_name": "BAN",
   "language": "python",
   "name": "uct-ban"
  },
  "language_info": {
   "codemirror_mode": {
    "name": "ipython",
    "version": 3
   },
   "file_extension": ".py",
   "mimetype": "text/x-python",
   "name": "python",
   "nbconvert_exporter": "python",
   "pygments_lexer": "ipython3",
   "version": "3.9.12"
  }
 },
 "nbformat": 4,
 "nbformat_minor": 4
}

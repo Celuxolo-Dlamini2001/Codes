{
 "cells": [
  {
   "cell_type": "markdown",
   "metadata": {
    "colab_type": "text",
    "id": "lYKklRHk1J9J"
   },
   "source": [
    "# Module 5 Unit 2\n",
    "## Improving neural networks with regularisation\n",
    "\n",
    "### Regression problem\n"
   ]
  },
  {
   "cell_type": "code",
   "execution_count": null,
   "metadata": {
    "colab": {},
    "colab_type": "code",
    "id": "vqAYV46Nunff"
   },
   "outputs": [],
   "source": [
    "# Import libraries\n",
    "import pandas as pd\n",
    "from sklearn.preprocessing import StandardScaler\n",
    "from sklearn.neural_network import MLPRegressor\n",
    "from sklearn.model_selection import train_test_split, cross_val_score\n",
    "from sklearn.metrics import mean_squared_error\n",
    "import matplotlib.pyplot as plt\n",
    "import numpy as np"
   ]
  },
  {
   "cell_type": "markdown",
   "metadata": {
    "colab_type": "text",
    "id": "J4kALnuRpdsZ"
   },
   "source": [
    "## Highway accidents\n"
   ]
  },
  {
   "cell_type": "code",
   "execution_count": null,
   "metadata": {
    "colab": {},
    "colab_type": "code",
    "id": "BjVWkDN7nUu7"
   },
   "outputs": [],
   "source": [
    "# Import data\n",
    "df = pd.read_csv('Highway.txt', delimiter = \" \")"
   ]
  },
  {
   "cell_type": "code",
   "execution_count": null,
   "metadata": {
    "colab": {},
    "colab_type": "code",
    "id": "oI4uK3RU_Ldn",
    "outputId": "15cd2325-8834-4e60-82d4-902d9af5a871"
   },
   "outputs": [],
   "source": [
    "# Explore the size of the data set\n",
    "df.shape"
   ]
  },
  {
   "cell_type": "code",
   "execution_count": null,
   "metadata": {
    "colab": {},
    "colab_type": "code",
    "id": "Ubx6-hcXXr8l",
    "outputId": "992e40e8-26cd-4c11-f508-12aac8779374"
   },
   "outputs": [],
   "source": [
    "# Explore the type of data and feature names\n",
    "df.sample(10, random_state=0)"
   ]
  },
  {
   "cell_type": "code",
   "execution_count": null,
   "metadata": {
    "colab": {},
    "colab_type": "code",
    "id": "4GzyKnGPXr8n"
   },
   "outputs": [],
   "source": [
    "# Split data into features (X) and responses (y)\n",
    "X = df.iloc[:, 1:11] \n",
    "y = df.loc[:,\"lgRate\"]"
   ]
  },
  {
   "cell_type": "code",
   "execution_count": null,
   "metadata": {
    "colab": {},
    "colab_type": "code",
    "id": "kPOi2Sm9Xr8q",
    "outputId": "0ee4504f-fd61-43e7-c2a1-4239aa5cb7ef"
   },
   "outputs": [],
   "source": [
    "X.head()"
   ]
  },
  {
   "cell_type": "code",
   "execution_count": null,
   "metadata": {
    "colab": {},
    "colab_type": "code",
    "id": "NGZttj3bXr8s",
    "outputId": "2de737c4-664a-41ac-ea63-583bba39bf7c"
   },
   "outputs": [],
   "source": [
    "y.head()"
   ]
  },
  {
   "cell_type": "code",
   "execution_count": null,
   "metadata": {
    "colab": {},
    "colab_type": "code",
    "id": "BK6dU7H1Xr8u"
   },
   "outputs": [],
   "source": [
    "# Change the array shape of the output from a dataframe single column vector\n",
    "# to a contiguous flattened array\n",
    "y = np.ravel(y)"
   ]
  },
  {
   "cell_type": "code",
   "execution_count": null,
   "metadata": {
    "colab": {},
    "colab_type": "code",
    "id": "axPdHbCdXr8w"
   },
   "outputs": [],
   "source": [
    "# Split the data into the training and testing sets\n",
    "X_train, X_test, y_train, y_test = train_test_split(X, y, random_state=0)"
   ]
  },
  {
   "cell_type": "code",
   "execution_count": null,
   "metadata": {
    "colab": {},
    "colab_type": "code",
    "id": "fc_gwtKPXr8y"
   },
   "outputs": [],
   "source": [
    "# Scale the data\n",
    "scaler = StandardScaler()  \n",
    "\n",
    "# Remember to fit using only the training data\n",
    "scaler.fit(X_train)  \n",
    "X_train = scaler.transform(X_train)  \n",
    "\n",
    "# Apply the same transformation to the test data\n",
    "X_test = scaler.transform(X_test)"
   ]
  },
  {
   "cell_type": "code",
   "execution_count": null,
   "metadata": {
    "colab": {},
    "colab_type": "code",
    "id": "sYt-zFixXr85",
    "outputId": "f9f3d129-609a-4833-fc60-4cfadc9a2f57"
   },
   "outputs": [],
   "source": [
    "# Fit and check MSE before regularisation\n",
    "reg = MLPRegressor(max_iter=3000, hidden_layer_sizes=(5,5), random_state=1) \n",
    "reg.fit(X_train, y_train)\n",
    "\n",
    "# Predict\n",
    "y_pred = reg.predict(X_test)\n",
    "\n",
    "# MSE before regularisation\n",
    "mean_squared_error(y_pred, y_test)"
   ]
  },
  {
   "cell_type": "markdown",
   "metadata": {
    "colab_type": "text",
    "id": "zUFyCGaPP8H-"
   },
   "source": [
    "The regularisation parameter is used to \"apply the brakes\". A sequence of numbers that are exponentially decaying is created to account for the complexity near 0. A larger value represents a simpler problem complexity. "
   ]
  },
  {
   "cell_type": "code",
   "execution_count": null,
   "metadata": {
    "colab": {},
    "colab_type": "code",
    "id": "hlmYTsh-Xr87",
    "outputId": "8103b7b8-4fc5-493a-f98f-c0bc4f6cc755"
   },
   "outputs": [],
   "source": [
    "# Find the optimum regularisation parameter\n",
    "reg_par = [np.e**n for n in np.arange(-3,5,0.5)]\n",
    "\n",
    "# Optimise the neural network regularisation\n",
    "validation_scores = {}\n",
    "print(\" alpha  |  Sq.Error\")   \n",
    "for param in reg_par:\n",
    "    reg = MLPRegressor(max_iter=6000, hidden_layer_sizes=(5,5), \n",
    "                       alpha=param, random_state=1)\n",
    "    score = cross_val_score(estimator=reg, X=X_train, y=y_train, \n",
    "                            cv=3, scoring=\"neg_mean_squared_error\")\n",
    "    validation_scores[param] = -score.mean()\n",
    "    print(\"%0.5f |  %0.6f\" % (param, -score.mean()))   \n",
    "\n",
    "# Plot the error function    \n",
    "plt.plot([np.log(i) for i in validation_scores.keys()], list(validation_scores.values()))\n",
    "plt.xlabel(\"Ln of alpha\")\n",
    "plt.ylabel(\"Mean Sq Error\")\n"
   ]
  },
  {
   "cell_type": "code",
   "execution_count": null,
   "metadata": {
    "colab": {},
    "colab_type": "code",
    "id": "ZDcOomyrXr89",
    "outputId": "7634aea4-8973-42e5-ecc2-70ee9b181054"
   },
   "outputs": [],
   "source": [
    "# Find the regularisation parameter with the lowest error\n",
    "print(\"The lowest cross validation error is %f\" % min(validation_scores.values()))        \n",
    "print(\"This corresponds to regularisation parameter e**%s\" % \n",
    "      ([np.log(name) for name, score in validation_scores.items()\n",
    "                         if score==min(validation_scores.values())][0]))"
   ]
  },
  {
   "cell_type": "markdown",
   "metadata": {
    "colab_type": "text",
    "id": "m3q-4G-AwbeN"
   },
   "source": [
    "The regularisation parameter found via cross-validation is $e^{1.5}$. This means that the task is relatively simple."
   ]
  },
  {
   "cell_type": "code",
   "execution_count": null,
   "metadata": {
    "colab": {},
    "colab_type": "code",
    "id": "UTuitoVGXr8_",
    "outputId": "7eac6939-d582-486f-a9d4-90d6346eb21e"
   },
   "outputs": [],
   "source": [
    "# Fit the data with the best parameter\n",
    "reg = MLPRegressor(max_iter=6000, hidden_layer_sizes=(5,5), \n",
    "                   alpha=np.e**(1.5), random_state=1)\n",
    "reg.fit(X_train, y_train)\n",
    "# Does not fully converge without changing max_iter"
   ]
  },
  {
   "cell_type": "code",
   "execution_count": null,
   "metadata": {
    "colab": {},
    "colab_type": "code",
    "id": "1MNp7iOtXr9B",
    "outputId": "96eebf1b-4e14-4d7c-9f1c-0885b8f13b22"
   },
   "outputs": [],
   "source": [
    "# Predict\n",
    "y_pred = reg.predict(X_test)\n",
    "\n",
    "# MSE final\n",
    "mean_squared_error(y_pred, y_test)"
   ]
  },
  {
   "cell_type": "markdown",
   "metadata": {
    "colab_type": "text",
    "id": "rDqJ7yltOyzj"
   },
   "source": [
    "Notice the decrease in error before and after regularisation."
   ]
  },
  {
   "cell_type": "markdown",
   "metadata": {
    "colab_type": "text",
    "id": "jEEuXDMoungT"
   },
   "source": [
    "For production purposes, you would then use a regressor fitted on the entire data set (X,y), not just the test data."
   ]
  },
  {
   "cell_type": "code",
   "execution_count": null,
   "metadata": {
    "colab": {},
    "colab_type": "code",
    "id": "YsrO01AGXr9D",
    "outputId": "ba630787-b147-4472-a930-17f232f290d9"
   },
   "outputs": [],
   "source": [
    "# Visualise by drawing a response function\n",
    "# Observe each of the predictors individually vs lgRate\n",
    "\n",
    "for variable in X.columns:\n",
    "    # Copy the dataframe, so as not to change the original, and obtain medians\n",
    "    X_design = X.copy()\n",
    "    X_design_vec = pd.DataFrame(X_design.median()).transpose()\n",
    "\n",
    "    # Grab the min and max of desired variable and set up a sequence\n",
    "    min_res = min(X.loc[:, variable])\n",
    "    max_res = max(X.loc[:, variable])\n",
    "    seq = np.linspace(start=min_res, stop=max_res, num=50)\n",
    "\n",
    "    # Set up a list of moving resultants\n",
    "    to_predict = []\n",
    "    for result in seq:\n",
    "        X_design_vec.loc[0, variable] = result\n",
    "        to_predict.append(X_design_vec.copy())\n",
    "\n",
    "    # Convert back to DataFrame\n",
    "    to_predict = pd.concat(to_predict)\n",
    "\n",
    "    # Scale and predict\n",
    "    to_predict = scaler.transform(to_predict)\n",
    "    predictions = reg.predict(to_predict)\n",
    "\n",
    "    # Plot \n",
    "    plt.plot(seq, predictions)\n",
    "    plt.xlabel(variable)\n",
    "    plt.ylabel(\"lgRate\")\n",
    "    plt.title(\"lgRate vs. \" + variable)\n",
    "    plt.show()"
   ]
  },
  {
   "cell_type": "markdown",
   "metadata": {
    "colab_type": "text",
    "id": "bZWS4346Xr9R"
   },
   "source": [
    "## Practice"
   ]
  },
  {
   "cell_type": "markdown",
   "metadata": {
    "colab_type": "text",
    "id": "xr8mAziqOyzm"
   },
   "source": [
    "Find the optimum regularisation parameter if `hidden_layer_sizes = (8,3)`."
   ]
  },
  {
   "cell_type": "code",
   "execution_count": null,
   "metadata": {
    "colab": {},
    "colab_type": "code",
    "deletable": false,
    "id": "PzylJOI6Oyzo",
    "nbgrader": {
     "cell_type": "code",
     "checksum": "e4f1f18bb05b7ccc4db4b2c0a3712086",
     "grade": true,
     "grade_id": "cell-7fffd56ae1a9db6b",
     "locked": false,
     "points": 0,
     "schema_version": 3,
     "solution": true,
     "task": false
    },
    "outputId": "93c3375c-01e3-4123-b883-80d8f57c3fab"
   },
   "outputs": [],
   "source": [
    "# Find optimum regularisation parameter\n",
    "# Hint: Change the range in the following line of code.\n",
    "# reg_par = [np.e**n for n in np.arange(?,?,?)]\n",
    "\n",
    "# YOUR CODE HERE\n",
    "\n",
    "\n",
    "# Optimise neural network regularisation\n",
    "validation_scores = {}\n",
    "print(\" alpha  |  Sq.Error\")   \n",
    "for param in reg_par:\n",
    "    reg = MLPRegressor(max_iter=6000, hidden_layer_sizes=(8,3), \n",
    "                       alpha=param, random_state=1)\n",
    "    score = cross_val_score(estimator=reg, X=X_train, y=y_train, \n",
    "                            cv=3, scoring=\"neg_mean_squared_error\")\n",
    "    validation_scores[param] = -score.mean()\n",
    "    print(\"%0.5f |  %0.6f\" % (param, -score.mean())) \n",
    "    \n",
    "# Plot the error function    \n",
    "plt.plot([np.log(i) for i in validation_scores.keys()], list(validation_scores.values()))\n",
    "plt.xlabel(\"Ln of alpha\")\n",
    "plt.ylabel(\"Mean Sq Error\")\n",
    "\n",
    "# Find the regularisation parameter with the lowest error\n",
    "print(\"The lowest cross validation error is %f\" % min(validation_scores.values()))        \n",
    "print(\"This corresponds to regularisation parameter e**%s\" % \n",
    "      ([np.log(name) for name, score in validation_scores.items()\n",
    "                         if score==min(validation_scores.values())][0]))"
   ]
  }
 ],
 "metadata": {
  "colab": {
   "collapsed_sections": [],
   "name": "M5U2 IDE Practice notebook.ipynb",
   "provenance": []
  },
  "kernelspec": {
   "display_name": "Python 3",
   "language": "python",
   "name": "python3"
  },
  "language_info": {
   "codemirror_mode": {
    "name": "ipython",
    "version": 3
   },
   "file_extension": ".py",
   "mimetype": "text/x-python",
   "name": "python",
   "nbconvert_exporter": "python",
   "pygments_lexer": "ipython3",
   "version": "3.8.5"
  }
 },
 "nbformat": 4,
 "nbformat_minor": 1
}

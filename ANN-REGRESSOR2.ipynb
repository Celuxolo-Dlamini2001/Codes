{
 "cells": [
  {
   "cell_type": "markdown",
   "metadata": {
    "colab_type": "text",
    "id": "ZKbu-pJeWYvg"
   },
   "source": [
    "# Module 5 Unit 3\n",
    "## Improve a neural network with regularisation\n",
    "\n",
    "Insert your code after `# YOUR CODE HERE`.  \n",
    "**NOTE:** This notebook will not be graded, but you should submit it when you submit your assignment, so that the Tutor Team can see how you arrived at your answers."
   ]
  },
  {
   "cell_type": "code",
   "execution_count": 1,
   "metadata": {
    "colab": {},
    "colab_type": "code",
    "id": "aVfQP0N9WYvk"
   },
   "outputs": [],
   "source": [
    "# Import libraries\n",
    "import pandas as pd\n",
    "from sklearn.preprocessing import StandardScaler\n",
    "from sklearn.neural_network import MLPRegressor\n",
    "from sklearn.model_selection import train_test_split, cross_val_score\n",
    "from sklearn.metrics import mean_squared_error\n",
    "import matplotlib.pyplot as plt\n",
    "import numpy as np\n",
    "import itertools"
   ]
  },
  {
   "cell_type": "code",
   "execution_count": 2,
   "metadata": {
    "colab": {},
    "colab_type": "code",
    "id": "qezUc3xFWYvn"
   },
   "outputs": [],
   "source": [
    "# Import data\n",
    "df = pd.read_csv('auto-mpg.csv', delimiter = \",\")\n",
    "\n",
    "# Drop missing entries\n",
    "df = df.replace(\"?\", np.nan)\n",
    "df = df.dropna()"
   ]
  },
  {
   "cell_type": "code",
   "execution_count": 3,
   "metadata": {
    "colab": {},
    "colab_type": "code",
    "id": "mE2OMP4xWYvp",
    "outputId": "2e8af59b-f56f-43bc-ddc2-f56441cdeb00"
   },
   "outputs": [
    {
     "data": {
      "text/plain": [
       "(392, 9)"
      ]
     },
     "execution_count": 3,
     "metadata": {},
     "output_type": "execute_result"
    }
   ],
   "source": [
    "# Explore the size of the data set\n",
    "df.shape "
   ]
  },
  {
   "cell_type": "code",
   "execution_count": 4,
   "metadata": {
    "colab": {},
    "colab_type": "code",
    "id": "aWzLsNMqWYvs",
    "outputId": "05bb75ea-fc18-4e65-86f8-8fe27faeec05"
   },
   "outputs": [
    {
     "data": {
      "text/html": [
       "<div>\n",
       "<style scoped>\n",
       "    .dataframe tbody tr th:only-of-type {\n",
       "        vertical-align: middle;\n",
       "    }\n",
       "\n",
       "    .dataframe tbody tr th {\n",
       "        vertical-align: top;\n",
       "    }\n",
       "\n",
       "    .dataframe thead th {\n",
       "        text-align: right;\n",
       "    }\n",
       "</style>\n",
       "<table border=\"1\" class=\"dataframe\">\n",
       "  <thead>\n",
       "    <tr style=\"text-align: right;\">\n",
       "      <th></th>\n",
       "      <th>mpg</th>\n",
       "      <th>cylinders</th>\n",
       "      <th>displacement</th>\n",
       "      <th>horsepower</th>\n",
       "      <th>weight</th>\n",
       "      <th>acceleration</th>\n",
       "      <th>model year</th>\n",
       "      <th>origin</th>\n",
       "      <th>car name</th>\n",
       "    </tr>\n",
       "  </thead>\n",
       "  <tbody>\n",
       "    <tr>\n",
       "      <th>0</th>\n",
       "      <td>18.0</td>\n",
       "      <td>8</td>\n",
       "      <td>307.0</td>\n",
       "      <td>130</td>\n",
       "      <td>3504</td>\n",
       "      <td>12.0</td>\n",
       "      <td>70</td>\n",
       "      <td>1</td>\n",
       "      <td>chevrolet chevelle malibu</td>\n",
       "    </tr>\n",
       "    <tr>\n",
       "      <th>1</th>\n",
       "      <td>15.0</td>\n",
       "      <td>8</td>\n",
       "      <td>350.0</td>\n",
       "      <td>165</td>\n",
       "      <td>3693</td>\n",
       "      <td>11.5</td>\n",
       "      <td>70</td>\n",
       "      <td>1</td>\n",
       "      <td>buick skylark 320</td>\n",
       "    </tr>\n",
       "    <tr>\n",
       "      <th>2</th>\n",
       "      <td>18.0</td>\n",
       "      <td>8</td>\n",
       "      <td>318.0</td>\n",
       "      <td>150</td>\n",
       "      <td>3436</td>\n",
       "      <td>11.0</td>\n",
       "      <td>70</td>\n",
       "      <td>1</td>\n",
       "      <td>plymouth satellite</td>\n",
       "    </tr>\n",
       "    <tr>\n",
       "      <th>3</th>\n",
       "      <td>16.0</td>\n",
       "      <td>8</td>\n",
       "      <td>304.0</td>\n",
       "      <td>150</td>\n",
       "      <td>3433</td>\n",
       "      <td>12.0</td>\n",
       "      <td>70</td>\n",
       "      <td>1</td>\n",
       "      <td>amc rebel sst</td>\n",
       "    </tr>\n",
       "    <tr>\n",
       "      <th>4</th>\n",
       "      <td>17.0</td>\n",
       "      <td>8</td>\n",
       "      <td>302.0</td>\n",
       "      <td>140</td>\n",
       "      <td>3449</td>\n",
       "      <td>10.5</td>\n",
       "      <td>70</td>\n",
       "      <td>1</td>\n",
       "      <td>ford torino</td>\n",
       "    </tr>\n",
       "  </tbody>\n",
       "</table>\n",
       "</div>"
      ],
      "text/plain": [
       "    mpg  cylinders  displacement horsepower  weight  acceleration  model year  \\\n",
       "0  18.0          8         307.0        130    3504          12.0          70   \n",
       "1  15.0          8         350.0        165    3693          11.5          70   \n",
       "2  18.0          8         318.0        150    3436          11.0          70   \n",
       "3  16.0          8         304.0        150    3433          12.0          70   \n",
       "4  17.0          8         302.0        140    3449          10.5          70   \n",
       "\n",
       "   origin                   car name  \n",
       "0       1  chevrolet chevelle malibu  \n",
       "1       1          buick skylark 320  \n",
       "2       1         plymouth satellite  \n",
       "3       1              amc rebel sst  \n",
       "4       1                ford torino  "
      ]
     },
     "execution_count": 4,
     "metadata": {},
     "output_type": "execute_result"
    }
   ],
   "source": [
    "# Explore type of data and feature names\n",
    "df.head() # or df.sample()"
   ]
  },
  {
   "cell_type": "code",
   "execution_count": 5,
   "metadata": {
    "colab": {},
    "colab_type": "code",
    "id": "cailT0GvWYvv"
   },
   "outputs": [],
   "source": [
    "# Split data into features (X) and response (y)\n",
    "# Predict mpg vs other variables (excluding car name)\n",
    "X = df.iloc[:, 1:8] \n",
    "y = df.iloc[:, 0]"
   ]
  },
  {
   "cell_type": "code",
   "execution_count": 6,
   "metadata": {
    "colab": {},
    "colab_type": "code",
    "id": "nq28a2CCWYvx",
    "outputId": "0101aad8-25ef-42e6-e7bd-d1cc49f9798b"
   },
   "outputs": [
    {
     "data": {
      "text/html": [
       "<div>\n",
       "<style scoped>\n",
       "    .dataframe tbody tr th:only-of-type {\n",
       "        vertical-align: middle;\n",
       "    }\n",
       "\n",
       "    .dataframe tbody tr th {\n",
       "        vertical-align: top;\n",
       "    }\n",
       "\n",
       "    .dataframe thead th {\n",
       "        text-align: right;\n",
       "    }\n",
       "</style>\n",
       "<table border=\"1\" class=\"dataframe\">\n",
       "  <thead>\n",
       "    <tr style=\"text-align: right;\">\n",
       "      <th></th>\n",
       "      <th>cylinders</th>\n",
       "      <th>displacement</th>\n",
       "      <th>horsepower</th>\n",
       "      <th>weight</th>\n",
       "      <th>acceleration</th>\n",
       "      <th>model year</th>\n",
       "      <th>origin</th>\n",
       "    </tr>\n",
       "  </thead>\n",
       "  <tbody>\n",
       "    <tr>\n",
       "      <th>0</th>\n",
       "      <td>8</td>\n",
       "      <td>307.0</td>\n",
       "      <td>130</td>\n",
       "      <td>3504</td>\n",
       "      <td>12.0</td>\n",
       "      <td>70</td>\n",
       "      <td>1</td>\n",
       "    </tr>\n",
       "    <tr>\n",
       "      <th>1</th>\n",
       "      <td>8</td>\n",
       "      <td>350.0</td>\n",
       "      <td>165</td>\n",
       "      <td>3693</td>\n",
       "      <td>11.5</td>\n",
       "      <td>70</td>\n",
       "      <td>1</td>\n",
       "    </tr>\n",
       "    <tr>\n",
       "      <th>2</th>\n",
       "      <td>8</td>\n",
       "      <td>318.0</td>\n",
       "      <td>150</td>\n",
       "      <td>3436</td>\n",
       "      <td>11.0</td>\n",
       "      <td>70</td>\n",
       "      <td>1</td>\n",
       "    </tr>\n",
       "    <tr>\n",
       "      <th>3</th>\n",
       "      <td>8</td>\n",
       "      <td>304.0</td>\n",
       "      <td>150</td>\n",
       "      <td>3433</td>\n",
       "      <td>12.0</td>\n",
       "      <td>70</td>\n",
       "      <td>1</td>\n",
       "    </tr>\n",
       "    <tr>\n",
       "      <th>4</th>\n",
       "      <td>8</td>\n",
       "      <td>302.0</td>\n",
       "      <td>140</td>\n",
       "      <td>3449</td>\n",
       "      <td>10.5</td>\n",
       "      <td>70</td>\n",
       "      <td>1</td>\n",
       "    </tr>\n",
       "  </tbody>\n",
       "</table>\n",
       "</div>"
      ],
      "text/plain": [
       "   cylinders  displacement horsepower  weight  acceleration  model year  \\\n",
       "0          8         307.0        130    3504          12.0          70   \n",
       "1          8         350.0        165    3693          11.5          70   \n",
       "2          8         318.0        150    3436          11.0          70   \n",
       "3          8         304.0        150    3433          12.0          70   \n",
       "4          8         302.0        140    3449          10.5          70   \n",
       "\n",
       "   origin  \n",
       "0       1  \n",
       "1       1  \n",
       "2       1  \n",
       "3       1  \n",
       "4       1  "
      ]
     },
     "execution_count": 6,
     "metadata": {},
     "output_type": "execute_result"
    }
   ],
   "source": [
    "X.head()"
   ]
  },
  {
   "cell_type": "code",
   "execution_count": 7,
   "metadata": {
    "colab": {},
    "colab_type": "code",
    "id": "pczly2W5WYvz",
    "outputId": "66f8e7cc-07d0-4737-846d-56aa678f6d27"
   },
   "outputs": [
    {
     "data": {
      "text/plain": [
       "0    18.0\n",
       "1    15.0\n",
       "2    18.0\n",
       "3    16.0\n",
       "4    17.0\n",
       "Name: mpg, dtype: float64"
      ]
     },
     "execution_count": 7,
     "metadata": {},
     "output_type": "execute_result"
    }
   ],
   "source": [
    "y.head()"
   ]
  },
  {
   "cell_type": "code",
   "execution_count": 8,
   "metadata": {
    "colab": {},
    "colab_type": "code",
    "id": "2sailnW2WYv1"
   },
   "outputs": [],
   "source": [
    "# Put the response y into an array\n",
    "y = np.ravel(y)"
   ]
  },
  {
   "cell_type": "code",
   "execution_count": 9,
   "metadata": {
    "colab": {},
    "colab_type": "code",
    "id": "ESbDHQI1WYv3"
   },
   "outputs": [],
   "source": [
    "# Split the data into the training and testing sets\n",
    "X_train, X_test, y_train, y_test = train_test_split(X, y, random_state=0)"
   ]
  },
  {
   "cell_type": "code",
   "execution_count": 17,
   "metadata": {
    "colab": {},
    "colab_type": "code",
    "id": "-LPnrh79WYv5"
   },
   "outputs": [],
   "source": [
    "# Scale data\n",
    "scaler = StandardScaler()  \n",
    "\n",
    "# Remember to fit using only the training data\n",
    "scaler.fit(X_train)  \n",
    "X_train = scaler.transform(X_train) \n",
    "\n",
    "# Apply the same transformation to test data\n",
    "X_test = scaler.transform(X_test)"
   ]
  },
  {
   "cell_type": "markdown",
   "metadata": {
    "colab_type": "text",
    "id": "6cc1Hiy-wv9g"
   },
   "source": [
    "### Before regularisation"
   ]
  },
  {
   "cell_type": "markdown",
   "metadata": {
    "colab_type": "text",
    "id": "aQY6iYfkWYv7"
   },
   "source": [
    "Use the `solver=lbfgs`, `activation=\"tanh\"` and `hidden_layer_sizes=(5)` to train the network."
   ]
  },
  {
   "cell_type": "code",
   "execution_count": 18,
   "metadata": {
    "colab": {},
    "colab_type": "code",
    "deletable": false,
    "id": "dYpph0WWWYv7",
    "nbgrader": {
     "cell_type": "code",
     "checksum": "507ec72c7dada3f4d50ca108c627e76d",
     "grade": true,
     "grade_id": "cell-7e7c5d2895c9805e",
     "locked": false,
     "points": 0,
     "schema_version": 3,
     "solution": true,
     "task": false
    },
    "outputId": "532ed4ca-9c0f-4ab4-b69d-66ee31d06281"
   },
   "outputs": [
    {
     "data": {
      "text/plain": [
       "8.06160582080235"
      ]
     },
     "execution_count": 18,
     "metadata": {},
     "output_type": "execute_result"
    }
   ],
   "source": [
    "# Fit and check MSE before regularisation\n",
    "# YOUR CODE HERE\n",
    "reg = MLPRegressor(max_iter=3000, hidden_layer_sizes=(5,5), random_state=1)\n",
    "reg.fit(X_train, y_train)\n",
    "\n",
    "# Predict\n",
    "# YOUR CODE HERE\n",
    "y_pred = reg.predict(X_test)\n",
    "\n",
    "# MSE before regularisation\n",
    "mean_squared_error(y_pred, y_test)\n",
    "# YOUR CODE HERE\n"
   ]
  },
  {
   "cell_type": "markdown",
   "metadata": {
    "colab_type": "text",
    "id": "DNxASXFhwv9-"
   },
   "source": [
    "### Regularisation\n",
    "Train the model using the list of potential alpha values in `reg_par`, and determine the validation score as you learnt in Unit 2."
   ]
  },
  {
   "cell_type": "code",
   "execution_count": 19,
   "metadata": {
    "colab": {},
    "colab_type": "code",
    "deletable": false,
    "id": "cW_2EufNWYv9",
    "nbgrader": {
     "cell_type": "code",
     "checksum": "4e471b6c1b757ff684e92eafa0da0fed",
     "grade": true,
     "grade_id": "cell-60c9b81327275fac",
     "locked": false,
     "points": 0,
     "schema_version": 3,
     "solution": true,
     "task": false
    },
    "outputId": "73b6e4c6-6275-4fde-abe3-5a829516daf3"
   },
   "outputs": [
    {
     "name": "stdout",
     "output_type": "stream",
     "text": [
      " alpha  |  Sq.Error\n"
     ]
    },
    {
     "name": "stderr",
     "output_type": "stream",
     "text": [
      "/opt/conda/envs/uct-ban/lib/python3.9/site-packages/sklearn/neural_network/_multilayer_perceptron.py:692: ConvergenceWarning: Stochastic Optimizer: Maximum iterations (6000) reached and the optimization hasn't converged yet.\n",
      "  warnings.warn(\n",
      "/opt/conda/envs/uct-ban/lib/python3.9/site-packages/sklearn/neural_network/_multilayer_perceptron.py:692: ConvergenceWarning: Stochastic Optimizer: Maximum iterations (6000) reached and the optimization hasn't converged yet.\n",
      "  warnings.warn(\n",
      "/opt/conda/envs/uct-ban/lib/python3.9/site-packages/sklearn/neural_network/_multilayer_perceptron.py:692: ConvergenceWarning: Stochastic Optimizer: Maximum iterations (6000) reached and the optimization hasn't converged yet.\n",
      "  warnings.warn(\n"
     ]
    },
    {
     "name": "stdout",
     "output_type": "stream",
     "text": [
      "0.04979 | 8.461947\n"
     ]
    },
    {
     "name": "stderr",
     "output_type": "stream",
     "text": [
      "/opt/conda/envs/uct-ban/lib/python3.9/site-packages/sklearn/neural_network/_multilayer_perceptron.py:692: ConvergenceWarning: Stochastic Optimizer: Maximum iterations (6000) reached and the optimization hasn't converged yet.\n",
      "  warnings.warn(\n",
      "/opt/conda/envs/uct-ban/lib/python3.9/site-packages/sklearn/neural_network/_multilayer_perceptron.py:692: ConvergenceWarning: Stochastic Optimizer: Maximum iterations (6000) reached and the optimization hasn't converged yet.\n",
      "  warnings.warn(\n",
      "/opt/conda/envs/uct-ban/lib/python3.9/site-packages/sklearn/neural_network/_multilayer_perceptron.py:692: ConvergenceWarning: Stochastic Optimizer: Maximum iterations (6000) reached and the optimization hasn't converged yet.\n",
      "  warnings.warn(\n"
     ]
    },
    {
     "name": "stdout",
     "output_type": "stream",
     "text": [
      "0.13534 | 8.269153\n"
     ]
    },
    {
     "name": "stderr",
     "output_type": "stream",
     "text": [
      "/opt/conda/envs/uct-ban/lib/python3.9/site-packages/sklearn/neural_network/_multilayer_perceptron.py:692: ConvergenceWarning: Stochastic Optimizer: Maximum iterations (6000) reached and the optimization hasn't converged yet.\n",
      "  warnings.warn(\n",
      "/opt/conda/envs/uct-ban/lib/python3.9/site-packages/sklearn/neural_network/_multilayer_perceptron.py:692: ConvergenceWarning: Stochastic Optimizer: Maximum iterations (6000) reached and the optimization hasn't converged yet.\n",
      "  warnings.warn(\n",
      "/opt/conda/envs/uct-ban/lib/python3.9/site-packages/sklearn/neural_network/_multilayer_perceptron.py:692: ConvergenceWarning: Stochastic Optimizer: Maximum iterations (6000) reached and the optimization hasn't converged yet.\n",
      "  warnings.warn(\n"
     ]
    },
    {
     "name": "stdout",
     "output_type": "stream",
     "text": [
      "0.36788 | 8.258835\n"
     ]
    },
    {
     "name": "stderr",
     "output_type": "stream",
     "text": [
      "/opt/conda/envs/uct-ban/lib/python3.9/site-packages/sklearn/neural_network/_multilayer_perceptron.py:692: ConvergenceWarning: Stochastic Optimizer: Maximum iterations (6000) reached and the optimization hasn't converged yet.\n",
      "  warnings.warn(\n",
      "/opt/conda/envs/uct-ban/lib/python3.9/site-packages/sklearn/neural_network/_multilayer_perceptron.py:692: ConvergenceWarning: Stochastic Optimizer: Maximum iterations (6000) reached and the optimization hasn't converged yet.\n",
      "  warnings.warn(\n"
     ]
    },
    {
     "name": "stdout",
     "output_type": "stream",
     "text": [
      "1.00000 | 8.136435\n"
     ]
    },
    {
     "name": "stderr",
     "output_type": "stream",
     "text": [
      "/opt/conda/envs/uct-ban/lib/python3.9/site-packages/sklearn/neural_network/_multilayer_perceptron.py:692: ConvergenceWarning: Stochastic Optimizer: Maximum iterations (6000) reached and the optimization hasn't converged yet.\n",
      "  warnings.warn(\n"
     ]
    },
    {
     "name": "stdout",
     "output_type": "stream",
     "text": [
      "2.71828 | 8.343332\n"
     ]
    },
    {
     "name": "stderr",
     "output_type": "stream",
     "text": [
      "/opt/conda/envs/uct-ban/lib/python3.9/site-packages/sklearn/neural_network/_multilayer_perceptron.py:692: ConvergenceWarning: Stochastic Optimizer: Maximum iterations (6000) reached and the optimization hasn't converged yet.\n",
      "  warnings.warn(\n",
      "/opt/conda/envs/uct-ban/lib/python3.9/site-packages/sklearn/neural_network/_multilayer_perceptron.py:692: ConvergenceWarning: Stochastic Optimizer: Maximum iterations (6000) reached and the optimization hasn't converged yet.\n",
      "  warnings.warn(\n"
     ]
    },
    {
     "name": "stdout",
     "output_type": "stream",
     "text": [
      "7.38906 | 8.350010\n",
      "20.08554 | 7.941025\n"
     ]
    },
    {
     "name": "stderr",
     "output_type": "stream",
     "text": [
      "/opt/conda/envs/uct-ban/lib/python3.9/site-packages/sklearn/neural_network/_multilayer_perceptron.py:692: ConvergenceWarning: Stochastic Optimizer: Maximum iterations (6000) reached and the optimization hasn't converged yet.\n",
      "  warnings.warn(\n",
      "/opt/conda/envs/uct-ban/lib/python3.9/site-packages/sklearn/neural_network/_multilayer_perceptron.py:692: ConvergenceWarning: Stochastic Optimizer: Maximum iterations (6000) reached and the optimization hasn't converged yet.\n",
      "  warnings.warn(\n"
     ]
    },
    {
     "name": "stdout",
     "output_type": "stream",
     "text": [
      "54.59815 | 8.111276\n"
     ]
    },
    {
     "name": "stderr",
     "output_type": "stream",
     "text": [
      "/opt/conda/envs/uct-ban/lib/python3.9/site-packages/sklearn/neural_network/_multilayer_perceptron.py:692: ConvergenceWarning: Stochastic Optimizer: Maximum iterations (6000) reached and the optimization hasn't converged yet.\n",
      "  warnings.warn(\n",
      "/opt/conda/envs/uct-ban/lib/python3.9/site-packages/sklearn/neural_network/_multilayer_perceptron.py:692: ConvergenceWarning: Stochastic Optimizer: Maximum iterations (6000) reached and the optimization hasn't converged yet.\n",
      "  warnings.warn(\n"
     ]
    },
    {
     "name": "stdout",
     "output_type": "stream",
     "text": [
      "148.41316 | 8.825041\n"
     ]
    },
    {
     "name": "stderr",
     "output_type": "stream",
     "text": [
      "/opt/conda/envs/uct-ban/lib/python3.9/site-packages/sklearn/neural_network/_multilayer_perceptron.py:692: ConvergenceWarning: Stochastic Optimizer: Maximum iterations (6000) reached and the optimization hasn't converged yet.\n",
      "  warnings.warn(\n"
     ]
    }
   ],
   "source": [
    "# Find regularisation parameter\n",
    "reg_par = [np.e**n for n in np.arange(-3,6,1)] \n",
    "\n",
    "# Optimise neural network with regularisation\n",
    "validation_scores = {}\n",
    "print(\" alpha  |  Sq.Error\")  \n",
    "# YOUR CODE HERE\n",
    "for param in reg_par:\n",
    "    reg = MLPRegressor(max_iter=6000, hidden_layer_sizes=(5,5), alpha=param, random_state=1)\n",
    "    score = cross_val_score(estimator=reg, X=X_train, y=y_train, cv=3, scoring=\"neg_mean_squared_error\")\n",
    "    validation_scores[param] = -score.mean()\n",
    "    print(\"%0.5f | %0.6f\" % (param, -score.mean()))\n"
   ]
  },
  {
   "cell_type": "code",
   "execution_count": 22,
   "metadata": {
    "colab": {},
    "colab_type": "code",
    "id": "PgM1Y-MefycG",
    "outputId": "177a3700-bf6b-48ef-d64f-a3dd0a516f0a"
   },
   "outputs": [
    {
     "data": {
      "text/plain": [
       "Text(0, 0.5, 'Mean Sq Error')"
      ]
     },
     "execution_count": 22,
     "metadata": {},
     "output_type": "execute_result"
    },
    {
     "data": {
      "image/png": "[encoded data removed]",
      "text/plain": [
       "<Figure size 432x288 with 1 Axes>"
      ]
     },
     "metadata": {
      "needs_background": "light"
     },
     "output_type": "display_data"
    }
   ],
   "source": [
    "# Plot the error function    \n",
    "plt.plot([np.log(i) for i in validation_scores.keys()], list(validation_scores.values()))\n",
    "plt.xlabel(\"Ln of alpha\")\n",
    "plt.ylabel(\"Mean Sq Error\")\n"
   ]
  },
  {
   "cell_type": "markdown",
   "metadata": {
    "colab_type": "text",
    "id": "VAt2Rwp5wv-R"
   },
   "source": [
    "Print the lowest cross-validation error and the value to use for the `alpha` parameter in the following cell."
   ]
  },
  {
   "cell_type": "code",
   "execution_count": 23,
   "metadata": {
    "colab": {},
    "colab_type": "code",
    "deletable": false,
    "id": "Tnu2eSt2WYwA",
    "nbgrader": {
     "cell_type": "code",
     "checksum": "0f9fdecda26713ae3918b1b627d921e1",
     "grade": true,
     "grade_id": "cell-34d7892d5ec76e33",
     "locked": false,
     "points": 0,
     "schema_version": 3,
     "solution": true,
     "task": false
    },
    "outputId": "e7fad062-eb5a-4c81-d706-f827cc3af536"
   },
   "outputs": [
    {
     "name": "stdout",
     "output_type": "stream",
     "text": [
      "The print cross validation error is 7.941025\n",
      "This corresponds to regularisation parameter e**2.9999999999999996\n"
     ]
    }
   ],
   "source": [
    "# Check errors\n",
    "# YOUR CODE HERE\n",
    "print(\"The print cross validation error is %f\" % min(validation_scores.values()))\n",
    "print(\"This corresponds to regularisation parameter e**%s\" % ([np.log(name) for name, score in validation_scores.items() if score==min(validation_scores.values())][0]))\n"
   ]
  },
  {
   "cell_type": "markdown",
   "metadata": {
    "colab_type": "text",
    "id": "nLWW2pYSP9E1"
   },
   "source": [
    " ### After regularisation"
   ]
  },
  {
   "cell_type": "code",
   "execution_count": 18,
   "metadata": {
    "colab": {},
    "colab_type": "code",
    "deletable": false,
    "id": "CekkMxB_WYwC",
    "nbgrader": {
     "cell_type": "code",
     "checksum": "d3222499507f8a21538354158cd49f83",
     "grade": true,
     "grade_id": "cell-82d1303c6a65f726",
     "locked": false,
     "points": 0,
     "schema_version": 3,
     "solution": true,
     "task": false
    },
    "outputId": "2ee6df5c-8c1f-4195-f470-44eaf4ac74bc"
   },
   "outputs": [
    {
     "data": {
      "text/plain": [
       "8.019784815445908"
      ]
     },
     "execution_count": 18,
     "metadata": {},
     "output_type": "execute_result"
    }
   ],
   "source": [
    "# Fit data with the best parameter\n",
    "# YOUR CODE HERE\n",
    "reg = MLPRegressor(max_iter=6000, hidden_layer_sizes=(5,5), alpha=np.e**(-1.5), random_state=1)\n",
    "reg.fit(X_train, y_train)\n",
    "# Predict\n",
    "# YOUR CODE HERE\n",
    "y_pred = reg.predict(X_test)\n",
    "\n",
    "# MSE final\n",
    "mean_squared_error(y_pred, y_test)\n",
    "# YOUR CODE HERE\n"
   ]
  },
  {
   "cell_type": "markdown",
   "metadata": {
    "colab_type": "text",
    "id": "9RSS22ltwv-q"
   },
   "source": [
    "Did you notice a decrease in error?"
   ]
  },
  {
   "cell_type": "markdown",
   "metadata": {
    "colab_type": "text",
    "id": "LP6pDJFpWYwI"
   },
   "source": [
    "Use a response function to interpret the fitted model by observing mpg vs weight. Remember to fix other variables to the median for that column. "
   ]
  },
  {
   "cell_type": "markdown",
   "metadata": {
    "colab_type": "text",
    "id": "ctr--i16fybt"
   },
   "source": [
    "### Steps for setting up a response function\n",
    "1. Find the minimum and maximum weight values\n",
    "2. Set up a list of moving resultants\n",
    "3. Predict using the above two sets of values\n",
    "4. Plot miles per gallon against car weight"
   ]
  },
  {
   "cell_type": "markdown",
   "metadata": {
    "colab_type": "text",
    "id": "Of9waZ0_fyce"
   },
   "source": [
    "### Response function after regularisation"
   ]
  },
  {
   "cell_type": "code",
   "execution_count": 16,
   "metadata": {
    "colab": {},
    "colab_type": "code",
    "id": "FKZol-ldWYwJ",
    "outputId": "297cd2b8-b801-43cf-bf36-009d0ec0aa72"
   },
   "outputs": [
    {
     "data": {
      "text/html": [
       "<div>\n",
       "<style scoped>\n",
       "    .dataframe tbody tr th:only-of-type {\n",
       "        vertical-align: middle;\n",
       "    }\n",
       "\n",
       "    .dataframe tbody tr th {\n",
       "        vertical-align: top;\n",
       "    }\n",
       "\n",
       "    .dataframe thead th {\n",
       "        text-align: right;\n",
       "    }\n",
       "</style>\n",
       "<table border=\"1\" class=\"dataframe\">\n",
       "  <thead>\n",
       "    <tr style=\"text-align: right;\">\n",
       "      <th></th>\n",
       "      <th>cylinders</th>\n",
       "      <th>displacement</th>\n",
       "      <th>horsepower</th>\n",
       "      <th>weight</th>\n",
       "      <th>acceleration</th>\n",
       "      <th>model year</th>\n",
       "      <th>origin</th>\n",
       "    </tr>\n",
       "  </thead>\n",
       "  <tbody>\n",
       "    <tr>\n",
       "      <th>0</th>\n",
       "      <td>4.0</td>\n",
       "      <td>151.0</td>\n",
       "      <td>93.5</td>\n",
       "      <td>2803.5</td>\n",
       "      <td>15.5</td>\n",
       "      <td>76.0</td>\n",
       "      <td>1.0</td>\n",
       "    </tr>\n",
       "  </tbody>\n",
       "</table>\n",
       "</div>"
      ],
      "text/plain": [
       "   cylinders  displacement  horsepower  weight  acceleration  model year  \\\n",
       "0        4.0         151.0        93.5  2803.5          15.5        76.0   \n",
       "\n",
       "   origin  \n",
       "0     1.0  "
      ]
     },
     "execution_count": 16,
     "metadata": {},
     "output_type": "execute_result"
    }
   ],
   "source": [
    "# Draw a response function\n",
    "\n",
    "# Prepare data for graph\n",
    "# Copy dataframe so as not to change original, and obtain medians\n",
    "X_design = X.copy()\n",
    "X_design_vec = pd.DataFrame(X_design.median()).transpose()\n",
    "\n",
    "# View X_design_vec, which should contain the median of each respective column\n",
    "X_design_vec.head()"
   ]
  },
  {
   "cell_type": "code",
   "execution_count": 26,
   "metadata": {
    "colab": {},
    "colab_type": "code",
    "deletable": false,
    "id": "v2BHBMXeWYwM",
    "nbgrader": {
     "cell_type": "code",
     "checksum": "58e79ca83ebeed2683a60f286be745d2",
     "grade": true,
     "grade_id": "cell-d4328c4044750f56",
     "locked": false,
     "points": 0,
     "schema_version": 3,
     "solution": true,
     "task": false
    },
    "outputId": "e0a0758e-4e6d-4669-f706-ef5771de51e2"
   },
   "outputs": [
    {
     "data": {
      "image/png": "[encoded data removed]",
      "text/plain": [
       "<Figure size 432x288 with 1 Axes>"
      ]
     },
     "metadata": {
      "needs_background": "light"
     },
     "output_type": "display_data"
    }
   ],
   "source": [
    "# Obtain the min and max of the weight variable and set up a sequence\n",
    "# YOUR CODE HERE\n",
    "for variable in X.columns:\n",
    "    X_design = X.copy()\n",
    "    X_design_vec = pd.DataFrame(X_design.median()).transpose()\n",
    "\n",
    "\n",
    "min_res = min(X.loc[:, variable])\n",
    "max_res = max(X.loc[:, variable])\n",
    "seq = np.linspace(start=min_res, stop=max_res, num=50)\n",
    "# Set up a list of moving resultants\n",
    "to_predict = []\n",
    "# YOUR CODE HERE\n",
    "for result in seq:\n",
    "    X_design_vec.loc[0, variable] = result\n",
    "    to_predict.append(X_design_vec.copy())\n",
    "\n",
    "# Convert back to dataframe\n",
    "to_predict = pd.concat(to_predict)\n",
    "\n",
    "# Scale and predict\n",
    "# YOUR CODE HERE\n",
    "to_predict = scaler.transform(to_predict)\n",
    "predictions = reg.predict(to_predict)\n",
    "\n",
    "# Plot \n",
    "plt.plot(seq,predictions)\n",
    "plt.xlabel(\"weight (lbs)\")\n",
    "plt.ylabel(\"miles per gallon\")\n",
    "plt.title(\"mpg vs weight\")\n",
    "plt.show()\n"
   ]
  },
  {
   "cell_type": "markdown",
   "metadata": {
    "colab_type": "text",
    "id": "VmnxGPoNWYwO"
   },
   "source": [
    "Continue to the activity submission to answer questions about this notebook."
   ]
  }
 ],
 "metadata": {
  "colab": {
   "collapsed_sections": [],
   "name": "UCT DSS M5U3 IDE Notebook (code)_v14_ed.ipynb",
   "provenance": []
  },
  "kernelspec": {
   "display_name": "BAN",
   "language": "python",
   "name": "uct-ban"
  },
  "language_info": {
   "codemirror_mode": {
    "name": "ipython",
    "version": 3
   },
   "file_extension": ".py",
   "mimetype": "text/x-python",
   "name": "python",
   "nbconvert_exporter": "python",
   "pygments_lexer": "ipython3",
   "version": "3.9.12"
  }
 },
 "nbformat": 4,
 "nbformat_minor": 1
}

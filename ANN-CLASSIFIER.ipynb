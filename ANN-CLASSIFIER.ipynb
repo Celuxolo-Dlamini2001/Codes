{
 "cells": [
  {
   "cell_type": "markdown",
   "metadata": {
    "colab_type": "text",
    "id": "ijme60j6T6yh"
   },
   "source": [
    "# Module 4 Unit 2\n",
    "## Fitting neural networks in Python\n",
    "\n",
    "### Classification problem"
   ]
  },
  {
   "cell_type": "code",
   "execution_count": null,
   "metadata": {
    "colab": {},
    "colab_type": "code",
    "id": "d6yPDwE1O87Q"
   },
   "outputs": [],
   "source": [
    "# Import libraries\n",
    "import pandas as pd\n",
    "from sklearn.preprocessing import StandardScaler\n",
    "from sklearn.neural_network import MLPClassifier\n",
    "from sklearn.model_selection import train_test_split, cross_val_score\n",
    "from sklearn.metrics import accuracy_score\n",
    "import matplotlib.pyplot as plt\n",
    "import numpy as np"
   ]
  },
  {
   "cell_type": "markdown",
   "metadata": {
    "colab_type": "text",
    "id": "qx-ikinDgHuF"
   },
   "source": [
    "Now that the required libraries have been imported, it is time to import and clean the data."
   ]
  },
  {
   "cell_type": "code",
   "execution_count": null,
   "metadata": {
    "colab": {},
    "colab_type": "code",
    "id": "XJjNMWNTDndh",
    "outputId": "3c2f2f54-f60c-4446-fcfc-a52fd0fd2c12"
   },
   "outputs": [],
   "source": [
    "# Import data\n",
    "df = pd.read_csv('WISDM_transformed.csv', delimiter = \",\")\n",
    "\n",
    "# Drop missing entries\n",
    "df = df.replace(\"?\", np.nan)\n",
    "print(\"Number of null values in the data set = %s\" % df.isnull().sum().sum())\n",
    "df = df.dropna()"
   ]
  },
  {
   "cell_type": "code",
   "execution_count": null,
   "metadata": {
    "colab": {},
    "colab_type": "code",
    "id": "OJ9B_vFALeIl",
    "outputId": "15eb4542-0829-4ab0-d9b9-848118fd3368"
   },
   "outputs": [],
   "source": [
    "# Explore the size of the data set\n",
    "df.shape"
   ]
  },
  {
   "cell_type": "code",
   "execution_count": null,
   "metadata": {
    "colab": {},
    "colab_type": "code",
    "id": "3DIKNci5LeIo",
    "outputId": "3dadd025-5900-4914-b0fe-88deb7f3ecd2"
   },
   "outputs": [],
   "source": [
    "# Explore type of data and feature names\n",
    "# You can use df.head() or df.tail() to see the first or last few records, respectively.\n",
    "# However, if data is sorted, it is better to view some randomly sampled records\n",
    "df.sample(10, random_state=0)"
   ]
  },
  {
   "cell_type": "code",
   "execution_count": null,
   "metadata": {
    "colab": {},
    "colab_type": "code",
    "id": "PioAGSNhLeIu",
    "outputId": "8ee9a094-3c40-451c-b766-d395961a274d"
   },
   "outputs": [],
   "source": [
    "# Display all the unique values in the class column\n",
    "print(df['class'].unique())"
   ]
  },
  {
   "cell_type": "markdown",
   "metadata": {
    "colab_type": "text",
    "id": "fpFhlwMBBeiF"
   },
   "source": [
    "For the features, choose all the columns except the `id`, `UNIQUE_ID`,`user`, and `class` variables. The `class` variable will be the response variable."
   ]
  },
  {
   "cell_type": "code",
   "execution_count": null,
   "metadata": {
    "colab": {},
    "colab_type": "code",
    "id": "5DGT-eovLeIr"
   },
   "outputs": [],
   "source": [
    "# Split data into features (X) and response (y)\n",
    "X = df.iloc[:, 3:46] \n",
    "y = df.loc[:,[\"class\"]]"
   ]
  },
  {
   "cell_type": "code",
   "execution_count": null,
   "metadata": {
    "colab": {},
    "colab_type": "code",
    "id": "7dnjSRQnLeIw"
   },
   "outputs": [],
   "source": [
    "# Change the array shape of the output from a dataframe single column vector\n",
    "# to a contiguous flattened array\n",
    "y = np.ravel(y)"
   ]
  },
  {
   "cell_type": "code",
   "execution_count": null,
   "metadata": {
    "colab": {},
    "colab_type": "code",
    "id": "QzVcIAwPj1Y0"
   },
   "outputs": [],
   "source": [
    "# Split the data into the training set and testing set\n",
    "X_train, X_test, y_train, y_test = train_test_split(X, y, random_state=0)"
   ]
  },
  {
   "cell_type": "markdown",
   "metadata": {
    "colab_type": "text",
    "id": "B4rL1gZ0BeiS"
   },
   "source": [
    "Note that the features have widely varying dimensions: X0 is a proportion between 0 and 1;\n",
    "YPeak can be in the thousands and ZSTANDDEV is a standard deviation. \n",
    "Since neural networks are much more sensitive to features with high (absolute) values,\n",
    "you should scale all your input data to have a mean of 0 and standard deviation of 1."
   ]
  },
  {
   "cell_type": "code",
   "execution_count": null,
   "metadata": {
    "colab": {},
    "colab_type": "code",
    "id": "XI6VPQIhkz-b"
   },
   "outputs": [],
   "source": [
    "# Scale the data\n",
    "scaler = StandardScaler()  \n",
    "\n",
    "# Remember to fit using only the training data\n",
    "scaler.fit(X_train)  \n",
    "X_train = scaler.transform(X_train)  \n",
    "\n",
    "# Apply the same transformation to test data\n",
    "X_test = scaler.transform(X_test)"
   ]
  },
  {
   "cell_type": "markdown",
   "metadata": {
    "colab_type": "text",
    "id": "ML7Ww_1HgHuc"
   },
   "source": [
    "Next, you fit a two-layer MLP classifier with 5 nodes on each layer."
   ]
  },
  {
   "cell_type": "code",
   "execution_count": null,
   "metadata": {
    "colab": {},
    "colab_type": "code",
    "id": "-56PDZIkgHud",
    "outputId": "6c5161d0-f7ea-4743-9cd5-90e749adf0de"
   },
   "outputs": [],
   "source": [
    "reg = MLPClassifier(max_iter=2000, hidden_layer_sizes=(5,5), random_state=1)\n",
    "reg.fit(X_train, y_train)\n",
    "\n",
    "# Predict\n",
    "y_pred = reg.predict(X_test)\n",
    "    \n",
    "# Accuracy before model parameter optimisation\n",
    "accuracy_score(y_pred,y_test)"
   ]
  },
  {
   "cell_type": "markdown",
   "metadata": {
    "colab_type": "text",
    "id": "qfgT7gY6gHuf"
   },
   "source": [
    "Can you get a better accuracy? More nodes on each layer could lead to overfitting.\n",
    "Fewer nodes could make the model too sparse. \n",
    "Use cross-validation to find the optimal number of nodes per layer."
   ]
  },
  {
   "cell_type": "code",
   "execution_count": null,
   "metadata": {
    "colab": {},
    "colab_type": "code",
    "id": "RKJWwbZegHug",
    "outputId": "b97c2285-ca45-4fea-fb38-12f6793fcb54"
   },
   "outputs": [],
   "source": [
    "# Fit and check accuracy for various numbers of nodes on both layers\n",
    "# Note this will take some time\n",
    "validation_scores = {}\n",
    "print(\"Nodes |Validation\")\n",
    "print(\"      | score\")\n",
    "\n",
    "for hidden_layer_size in [(i,j) for i in range(3,7) for j in range(3,7)]:\n",
    "\n",
    "    reg = MLPClassifier(max_iter=2000, hidden_layer_sizes=hidden_layer_size, random_state=1)\n",
    "\n",
    "    score = cross_val_score(estimator=reg, X=X_train, y=y_train, cv=2)\n",
    "    validation_scores[hidden_layer_size] = score.mean()\n",
    "    print(hidden_layer_size, \": %0.5f\" % validation_scores[hidden_layer_size])"
   ]
  },
  {
   "cell_type": "code",
   "execution_count": null,
   "metadata": {
    "colab": {},
    "colab_type": "code",
    "id": "ARS5V1lIgHuj",
    "outputId": "211d2ffb-9ad1-42c0-b808-d65632775696"
   },
   "outputs": [],
   "source": [
    "# Vizualise these using a 3D surface plot\n",
    "from mpl_toolkits.mplot3d import Axes3D\n",
    "from matplotlib import cm\n",
    "from matplotlib.ticker import LinearLocator, FormatStrFormatter\n",
    "\n",
    "fig = plt.figure()\n",
    "ax = fig.gca(projection='3d')\n",
    "\n",
    "# Prepare the data\n",
    "px, py = np.meshgrid(np.arange(3,7), np.arange(3,7))\n",
    "pz = np.array([[validation_scores[(i,j)] for i in range(3,7)] for j in range(3,7)])\n",
    "\n",
    "# Customize the z-axis\n",
    "ax.set_zlim(0.76, .81)\n",
    "\n",
    "# Plot the surface\n",
    "surf = ax.plot_surface(px, py, pz)\n",
    "plt.show()"
   ]
  },
  {
   "cell_type": "code",
   "execution_count": null,
   "metadata": {
    "colab": {},
    "colab_type": "code",
    "id": "CDtUeIEwgHul",
    "outputId": "b254d53f-308a-4308-e44e-a4c838efff47"
   },
   "outputs": [],
   "source": [
    "# Check scores\n",
    "print(\"The highest validation score is: %0.4f\" % max(validation_scores.values()))  \n",
    "optimal_hidden_layer_size = [name for name, score in validation_scores.items() \n",
    "                              if score==max(validation_scores.values())][0]\n",
    "print(\"This corresponds to nodes\", optimal_hidden_layer_size )"
   ]
  },
  {
   "cell_type": "code",
   "execution_count": null,
   "metadata": {
    "colab": {},
    "colab_type": "code",
    "id": "HKJUdkRok0OM",
    "outputId": "84aa4e33-6a17-4544-93f0-e6d6d7d7435b"
   },
   "outputs": [],
   "source": [
    "# Fit data with best parameter\n",
    "clf = MLPClassifier(max_iter=2000, \n",
    "                    hidden_layer_sizes=optimal_hidden_layer_size, \n",
    "                    random_state=1)\n",
    "clf.fit(X_train, y_train)\n",
    "# Does not converge fully without changing max_iter"
   ]
  },
  {
   "cell_type": "code",
   "execution_count": null,
   "metadata": {
    "colab": {},
    "colab_type": "code",
    "id": "0h9ihZ6_k9_b",
    "outputId": "458f7997-9258-48e0-e8e9-8b106af8537a"
   },
   "outputs": [],
   "source": [
    "# Predict\n",
    "y_pred = clf.predict(X_test)\n",
    "\n",
    "# Accuracy \n",
    "accuracy_score(y_pred,y_test)"
   ]
  },
  {
   "cell_type": "code",
   "execution_count": null,
   "metadata": {
    "colab": {},
    "colab_type": "code",
    "id": "LVEkT8aVDndp",
    "outputId": "34c426c4-2a65-4f8e-f923-cf5533642523"
   },
   "outputs": [],
   "source": [
    "# Draw a response function to observe response vs resultant \n",
    "\n",
    "# Copy dataframe so as to not change original, and obtain medians\n",
    "X_design = X.copy()\n",
    "X_design_vec = pd.DataFrame(X_design.median()).transpose()\n",
    "\n",
    "# View X_design_vec\n",
    "X_design_vec.head()\n",
    "\n",
    "# Find the min and max of the desired feature and set up a sequence\n",
    "min_resultant = min(X.loc[:,\"RESULTANT\"])\n",
    "max_resultant = max(X.loc[:,\"RESULTANT\"])\n",
    "seq = np.linspace(start=min_resultant,stop=max_resultant,num=50)\n",
    "\n",
    "# Set up a list of moving resultants\n",
    "to_predict = []\n",
    "for result in seq:\n",
    "    X_design_vec.loc[0,\"RESULTANT\"] = result\n",
    "    to_predict.append(X_design_vec.copy())\n",
    "\n",
    "# Convert back to dataframe\n",
    "to_predict = pd.concat(to_predict)\n",
    "\n",
    "# Scale and predict\n",
    "to_predict = scaler.transform(to_predict)\n",
    "predictions = clf.predict(to_predict)\n",
    "\n",
    "# Plot \n",
    "plt.plot(seq,predictions)\n",
    "plt.xlabel(\"Resultant\")\n",
    "plt.ylabel(\"Class\")\n",
    "plt.title(\"Response vs Resultant\")\n",
    "plt.show()"
   ]
  },
  {
   "cell_type": "markdown",
   "metadata": {
    "colab_type": "text",
    "id": "EThNkEgkBein"
   },
   "source": [
    "The `RESULTANT`, which is the average resultant acceleration, is plotted against selected classes. Does this make intuitive sense?"
   ]
  },
  {
   "cell_type": "markdown",
   "metadata": {
    "colab_type": "text",
    "id": "Urpj11TNBeio"
   },
   "source": [
    "Continue to the small group discussion to discuss the outcomes of this model."
   ]
  }
 ],
 "metadata": {
  "colab": {
   "collapsed_sections": [],
   "name": "UCT DSS M4U2 IDE Notebook (code)_v15_BC.ipynb",
   "provenance": []
  },
  "kernelspec": {
   "display_name": "Python 3",
   "language": "python",
   "name": "python3"
  },
  "language_info": {
   "codemirror_mode": {
    "name": "ipython",
    "version": 3
   },
   "file_extension": ".py",
   "mimetype": "text/x-python",
   "name": "python",
   "nbconvert_exporter": "python",
   "pygments_lexer": "ipython3",
   "version": "3.8.5"
  }
 },
 "nbformat": 4,
 "nbformat_minor": 1
}
